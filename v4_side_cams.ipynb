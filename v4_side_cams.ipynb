{
 "cells": [
  {
   "cell_type": "code",
   "execution_count": 1,
   "metadata": {},
   "outputs": [
    {
     "name": "stdout",
     "output_type": "stream",
     "text": [
      "(48216, 160, 320, 3)\n"
     ]
    }
   ],
   "source": [
    "import csv\n",
    "import cv2\n",
    "import numpy as np\n",
    "\n",
    "lines = []\n",
    "with open('./data/data/driving_log.csv') as csvFile:\n",
    "    reader = csv.reader(csvFile)\n",
    "    for line in reader:\n",
    "        lines.append(line)\n",
    "#         break\n",
    "\n",
    "images = []\n",
    "measurments = []\n",
    "correction = [0.0,0.2,-0.2]\n",
    "for line in lines:\n",
    "    for idx in range(3):\n",
    "        source_path = line[idx]\n",
    "    #     print(source_path)\n",
    "        filename = source_path.split('/')[-1]\n",
    "    #     print(filename)\n",
    "        current_path = './data/data/IMG/' + filename\n",
    "    #     print(current_path)\n",
    "        image = cv2.imread(current_path)\n",
    "        vimage=image.copy()\n",
    "        vimage=cv2.flip(image,1)\n",
    "        images.append(image)\n",
    "        images.append(vimage)\n",
    "        measurment = float(line[3]) + correction[idx]\n",
    "        measurments.append(measurment)\n",
    "        measurments.append(-measurment)\n",
    "    \n",
    "X_train = np.array(images)\n",
    "y_train = np.array(measurments)\n",
    "print(X_train.shape)"
   ]
  },
  {
   "cell_type": "code",
   "execution_count": 2,
   "metadata": {},
   "outputs": [
    {
     "name": "stderr",
     "output_type": "stream",
     "text": [
      "Using TensorFlow backend.\n"
     ]
    },
    {
     "name": "stdout",
     "output_type": "stream",
     "text": [
      "Train on 38572 samples, validate on 9644 samples\n",
      "Epoch 1/1\n",
      "38572/38572 [==============================] - 99s 3ms/step - loss: 0.1308 - val_loss: 0.0353\n",
      "Train on 38572 samples, validate on 9644 samples\n",
      "Epoch 1/1\n",
      "38572/38572 [==============================] - 92s 2ms/step - loss: 0.0285 - val_loss: 0.0268\n",
      "Train on 38572 samples, validate on 9644 samples\n",
      "Epoch 1/1\n",
      "38572/38572 [==============================] - 92s 2ms/step - loss: 0.0216 - val_loss: 0.0223\n",
      "Train on 38572 samples, validate on 9644 samples\n",
      "Epoch 1/1\n",
      "38572/38572 [==============================] - 93s 2ms/step - loss: 0.0183 - val_loss: 0.0218\n",
      "Train on 38572 samples, validate on 9644 samples\n",
      "Epoch 1/1\n",
      "38572/38572 [==============================] - 92s 2ms/step - loss: 0.0163 - val_loss: 0.0230\n"
     ]
    }
   ],
   "source": [
    "from keras.models import Sequential\n",
    "from keras.layers import Flatten, Dense, Lambda\n",
    "from keras.layers import Conv2D, MaxPooling2D, Cropping2D\n",
    "\n",
    "\n",
    "model = Sequential()\n",
    "model.add(Lambda(lambda x: x / 255.0 - 0.5, input_shape=(160,320,3)))\n",
    "model.add(Cropping2D(cropping=((50,20), (0,0)), input_shape=(3,160,320)))\n",
    "model.add(Conv2D(6,(5,5),activation=\"relu\"))\n",
    "model.add(MaxPooling2D())\n",
    "model.add(Conv2D(6,(5,5),activation=\"relu\"))\n",
    "model.add(MaxPooling2D())\n",
    "model.add(Flatten())\n",
    "model.add(Dense(120))\n",
    "model.add(Dense(84))\n",
    "model.add(Dense(1))\n",
    "\n",
    "model.compile(loss='mse', optimizer='adam')\n",
    "n_epoch = 5\n",
    "n_batch = 128\n",
    "for i in range(n_epoch):\n",
    "    model.fit(X_train, y_train, batch_size=n_batch, validation_split=0.2, shuffle=True)\n",
    "model.save('model.h5')\n",
    "exit()\n",
    "\n"
   ]
  },
  {
   "cell_type": "code",
   "execution_count": null,
   "metadata": {},
   "outputs": [],
   "source": []
  }
 ],
 "metadata": {
  "kernelspec": {
   "display_name": "Python 3",
   "language": "python",
   "name": "python3"
  },
  "language_info": {
   "codemirror_mode": {
    "name": "ipython",
    "version": 3
   },
   "file_extension": ".py",
   "mimetype": "text/x-python",
   "name": "python",
   "nbconvert_exporter": "python",
   "pygments_lexer": "ipython3",
   "version": "3.6.5"
  }
 },
 "nbformat": 4,
 "nbformat_minor": 2
}
