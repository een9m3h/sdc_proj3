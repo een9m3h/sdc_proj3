{
 "cells": [
  {
   "cell_type": "code",
   "execution_count": 1,
   "metadata": {},
   "outputs": [],
   "source": [
    "import csv\n",
    "import cv2\n",
    "import numpy as np\n",
    "\n",
    "lines = []\n",
    "with open('./data/data/driving_log.csv') as csvFile:\n",
    "    reader = csv.reader(csvFile)\n",
    "    for line in reader:\n",
    "        lines.append(line)\n",
    "#         break\n",
    "\n"
   ]
  },
  {
   "cell_type": "code",
   "execution_count": 2,
   "metadata": {},
   "outputs": [],
   "source": [
    "from sklearn.model_selection import train_test_split\n",
    "train_valid, test = train_test_split(lines, test_size=0.01)\n",
    "# train_samples, validation_samples = train_test_split(train_valid, test_size=0.1)\n"
   ]
  },
  {
   "cell_type": "code",
   "execution_count": 3,
   "metadata": {},
   "outputs": [
    {
     "name": "stdout",
     "output_type": "stream",
     "text": [
      "4\n",
      "dropped samples: 0\n"
     ]
    }
   ],
   "source": [
    "images = []\n",
    "measurments = []\n",
    "correction = [0.0,0.2,-0.2]\n",
    "import random\n",
    "print(random.randint(0,9))\n",
    "dropped_samples = 0\n",
    "for line in train_valid:\n",
    "    for idx in range(3):\n",
    "#         if float(line[3]) == 0.0 and (idx == 0 and random.randint(0,9) < -1):\n",
    "#             dropped_samples=dropped_samples+1\n",
    "#         else:\n",
    "        source_path = line[idx]\n",
    "        filename = source_path.split('/')[-1]\n",
    "        current_path = './data/data/IMG/' + filename\n",
    "        image = cv2.imread(current_path)\n",
    "        vimage=image.copy()\n",
    "        vimage=cv2.flip(image,1)\n",
    "        images.append(image)\n",
    "        images.append(vimage)\n",
    "        measurment = float(line[3]) + correction[idx]\n",
    "        measurments.append(measurment)\n",
    "        measurments.append(-measurment)\n",
    "    \n",
    "print(\"dropped samples: \" +str(dropped_samples))"
   ]
  },
  {
   "cell_type": "code",
   "execution_count": 4,
   "metadata": {},
   "outputs": [
    {
     "name": "stdout",
     "output_type": "stream",
     "text": [
      "(47730, 160, 320, 3)\n"
     ]
    }
   ],
   "source": [
    "X_train = np.array(images)\n",
    "y_train = np.array(measurments)\n",
    "print(X_train.shape)"
   ]
  },
  {
   "cell_type": "code",
   "execution_count": 5,
   "metadata": {},
   "outputs": [
    {
     "name": "stderr",
     "output_type": "stream",
     "text": [
      "Using TensorFlow backend.\n"
     ]
    },
    {
     "name": "stdout",
     "output_type": "stream",
     "text": [
      "Train on 45343 samples, validate on 2387 samples\n",
      "Epoch 1/1\n",
      "45343/45343 [==============================] - 109s 2ms/step - loss: 0.0187 - val_loss: 0.0113\n",
      "Train on 45343 samples, validate on 2387 samples\n",
      "Epoch 1/1\n",
      "45343/45343 [==============================] - 103s 2ms/step - loss: 0.0143 - val_loss: 0.0104\n",
      "Train on 45343 samples, validate on 2387 samples\n",
      "Epoch 1/1\n",
      "45343/45343 [==============================] - 103s 2ms/step - loss: 0.0129 - val_loss: 0.0099\n",
      "Train on 45343 samples, validate on 2387 samples\n",
      "Epoch 1/1\n",
      "45343/45343 [==============================] - 104s 2ms/step - loss: 0.0117 - val_loss: 0.0092\n",
      "Train on 45343 samples, validate on 2387 samples\n",
      "Epoch 1/1\n",
      "45343/45343 [==============================] - 103s 2ms/step - loss: 0.0107 - val_loss: 0.0090\n",
      "Train on 45343 samples, validate on 2387 samples\n",
      "Epoch 1/1\n",
      "45343/45343 [==============================] - 105s 2ms/step - loss: 0.0098 - val_loss: 0.0081\n",
      "Train on 45343 samples, validate on 2387 samples\n",
      "Epoch 1/1\n",
      "45343/45343 [==============================] - 105s 2ms/step - loss: 0.0091 - val_loss: 0.0084\n",
      "Train on 45343 samples, validate on 2387 samples\n",
      "Epoch 1/1\n",
      "45343/45343 [==============================] - 106s 2ms/step - loss: 0.0082 - val_loss: 0.0086\n",
      "Train on 45343 samples, validate on 2387 samples\n",
      "Epoch 1/1\n",
      "45343/45343 [==============================] - 104s 2ms/step - loss: 0.0075 - val_loss: 0.0079\n",
      "Train on 45343 samples, validate on 2387 samples\n",
      "Epoch 1/1\n",
      "45343/45343 [==============================] - 104s 2ms/step - loss: 0.0068 - val_loss: 0.0081\n"
     ]
    }
   ],
   "source": [
    "from keras.models import Sequential\n",
    "from keras.layers import Flatten, Dense, Lambda\n",
    "from keras.layers import Conv2D, MaxPooling2D, Cropping2D, Dropout\n",
    "\n",
    "\n",
    "model = Sequential()\n",
    "model.add(Lambda(lambda x: x / 255.0 - 0.5, input_shape=(160,320,3)))\n",
    "model.add(Cropping2D(cropping=((50,20), (0,0)), input_shape=(3,160,320)))\n",
    "model.add(Conv2D(8,(5,5),activation=\"relu\"))\n",
    "model.add(MaxPooling2D())\n",
    "model.add(Conv2D(16,(5,5),activation=\"relu\"))\n",
    "model.add(MaxPooling2D())\n",
    "model.add(Conv2D(32,(5,5),activation=\"relu\"))\n",
    "model.add(MaxPooling2D())\n",
    "model.add(Dropout(0.2))\n",
    "model.add(Flatten())\n",
    "model.add(Dense(120,activation=\"relu\"))\n",
    "model.add(Dense(84,activation=\"relu\"))\n",
    "model.add(Dense(1))\n",
    "\n",
    "model.compile(loss='mse', optimizer='adam')\n",
    "n_epoch = 10\n",
    "n_batch = 128\n",
    "for i in range(n_epoch):\n",
    "    model.fit(X_train, y_train, batch_size=n_batch, validation_split=0.05, shuffle=True)\n",
    "model.save('model.h5')\n",
    "# exit()\n",
    "\n"
   ]
  },
  {
   "cell_type": "code",
   "execution_count": 6,
   "metadata": {},
   "outputs": [
    {
     "name": "stdout",
     "output_type": "stream",
     "text": [
      "9\n"
     ]
    }
   ],
   "source": [
    "images = []\n",
    "measurments = []\n",
    "correction = [0.0,0.2,-0.2]\n",
    "import random\n",
    "print(random.randint(0,9))\n",
    "dropped_samples = 0\n",
    "for line in test:\n",
    "    for idx in range(3):\n",
    "#         if float(line[3]) == 0.0 and (idx == 0 and random.randint(0,9) < -1):\n",
    "#             dropped_samples=dropped_samples+1\n",
    "#         else:\n",
    "        source_path = line[idx]\n",
    "        filename = source_path.split('/')[-1]\n",
    "        current_path = './data/data/IMG/' + filename\n",
    "        image = cv2.imread(current_path)\n",
    "        vimage=image.copy()\n",
    "        vimage=cv2.flip(image,1)\n",
    "        images.append(image)\n",
    "        images.append(vimage)\n",
    "        measurment = float(line[3]) + correction[idx]\n",
    "        measurments.append(measurment)\n",
    "        measurments.append(-measurment)\n",
    "        \n",
    "X_test = np.array(images)\n",
    "y_test = np.array(measurments)"
   ]
  },
  {
   "cell_type": "code",
   "execution_count": 7,
   "metadata": {},
   "outputs": [
    {
     "name": "stdout",
     "output_type": "stream",
     "text": [
      "486/486 [==============================] - 6s 13ms/step\n",
      "Test loss: 0.005827484998292455\n"
     ]
    }
   ],
   "source": [
    "import tensorflow as tf\n",
    "with tf.device('/cpu:0'):\n",
    "    from keras.models import load_model\n",
    "    model = load_model('model.h5')\n",
    "    score = model.evaluate(x=X_test, y=y_test, batch_size=32)\n",
    "    print('Test loss:', score)\n",
    "    "
   ]
  }
 ],
 "metadata": {
  "kernelspec": {
   "display_name": "Python 3",
   "language": "python",
   "name": "python3"
  },
  "language_info": {
   "codemirror_mode": {
    "name": "ipython",
    "version": 3
   },
   "file_extension": ".py",
   "mimetype": "text/x-python",
   "name": "python",
   "nbconvert_exporter": "python",
   "pygments_lexer": "ipython3",
   "version": "3.6.5"
  }
 },
 "nbformat": 4,
 "nbformat_minor": 2
}
